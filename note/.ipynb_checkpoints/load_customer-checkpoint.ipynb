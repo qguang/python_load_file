{
 "cells": [
  {
   "cell_type": "markdown",
   "id": "closed-deficit",
   "metadata": {},
   "source": [
    "# Import Python module"
   ]
  },
  {
   "cell_type": "code",
   "execution_count": 1,
   "id": "handed-nigeria",
   "metadata": {},
   "outputs": [],
   "source": [
    "import pandas as pd\n",
    "import json\n",
    "from datetime import datetime\n",
    "from pymongo import MongoClient\n",
    "import pprint"
   ]
  },
  {
   "cell_type": "markdown",
   "id": "neutral-marketing",
   "metadata": {},
   "source": [
    "# Load cusotmer.csv\n",
    "\n",
    "- Load the file into a Pandas dataframe. If load a large file on a machine with limited ram, consider use chunk\n",
    "- rename the column to lower case\n",
    "- print out dataframe information for debug"
   ]
  },
  {
   "cell_type": "code",
   "execution_count": 2,
   "id": "adjustable-current",
   "metadata": {},
   "outputs": [
    {
     "name": "stdout",
     "output_type": "stream",
     "text": [
      "<class 'pandas.core.frame.DataFrame'>\n",
      "RangeIndex: 1000 entries, 0 to 999\n",
      "Data columns (total 5 columns):\n",
      " #   Column       Non-Null Count  Dtype \n",
      "---  ------       --------------  ----- \n",
      " 0   customer_id  1000 non-null   object\n",
      " 1   first_name   1000 non-null   object\n",
      " 2   last_name    1000 non-null   object\n",
      " 3   gender       1000 non-null   object\n",
      " 4   dob          1000 non-null   object\n",
      "dtypes: object(5)\n",
      "memory usage: 39.2+ KB\n"
     ]
    }
   ],
   "source": [
    "df_customer = pd.read_csv('../data_load/incoming/customer.csv', sep=',', header =0)\n",
    "df_customer.rename(columns=lambda x: x.lower(), inplace=True)\n",
    "df_customer.info()"
   ]
  },
  {
   "cell_type": "code",
   "execution_count": 3,
   "id": "serial-trader",
   "metadata": {},
   "outputs": [
    {
     "data": {
      "text/html": [
       "<div>\n",
       "<style scoped>\n",
       "    .dataframe tbody tr th:only-of-type {\n",
       "        vertical-align: middle;\n",
       "    }\n",
       "\n",
       "    .dataframe tbody tr th {\n",
       "        vertical-align: top;\n",
       "    }\n",
       "\n",
       "    .dataframe thead th {\n",
       "        text-align: right;\n",
       "    }\n",
       "</style>\n",
       "<table border=\"1\" class=\"dataframe\">\n",
       "  <thead>\n",
       "    <tr style=\"text-align: right;\">\n",
       "      <th></th>\n",
       "      <th>customer_id</th>\n",
       "      <th>first_name</th>\n",
       "      <th>last_name</th>\n",
       "      <th>gender</th>\n",
       "      <th>dob</th>\n",
       "    </tr>\n",
       "  </thead>\n",
       "  <tbody>\n",
       "    <tr>\n",
       "      <th>0</th>\n",
       "      <td>C000001</td>\n",
       "      <td>Marty</td>\n",
       "      <td>McFly</td>\n",
       "      <td>M</td>\n",
       "      <td>1970-01-01 00:00:00</td>\n",
       "    </tr>\n",
       "    <tr>\n",
       "      <th>1</th>\n",
       "      <td>C000002</td>\n",
       "      <td>Aurora</td>\n",
       "      <td>Lane</td>\n",
       "      <td>F</td>\n",
       "      <td>1970-01-02 00:00:00</td>\n",
       "    </tr>\n",
       "    <tr>\n",
       "      <th>2</th>\n",
       "      <td>C000003</td>\n",
       "      <td>Rita</td>\n",
       "      <td>Vrataski</td>\n",
       "      <td>F</td>\n",
       "      <td>1970-01-03 00:00:00</td>\n",
       "    </tr>\n",
       "    <tr>\n",
       "      <th>3</th>\n",
       "      <td>C000004</td>\n",
       "      <td>William</td>\n",
       "      <td>Cage</td>\n",
       "      <td>M</td>\n",
       "      <td>1970-01-04 00:00:00</td>\n",
       "    </tr>\n",
       "    <tr>\n",
       "      <th>4</th>\n",
       "      <td>C000005</td>\n",
       "      <td>Stanley</td>\n",
       "      <td>Ipkiss</td>\n",
       "      <td>M</td>\n",
       "      <td>1970-01-05 00:00:00</td>\n",
       "    </tr>\n",
       "  </tbody>\n",
       "</table>\n",
       "</div>"
      ],
      "text/plain": [
       "  customer_id first_name last_name gender                  dob\n",
       "0     C000001      Marty     McFly      M  1970-01-01 00:00:00\n",
       "1     C000002     Aurora      Lane      F  1970-01-02 00:00:00\n",
       "2     C000003       Rita  Vrataski      F  1970-01-03 00:00:00\n",
       "3     C000004    William      Cage      M  1970-01-04 00:00:00\n",
       "4     C000005    Stanley    Ipkiss      M  1970-01-05 00:00:00"
      ]
     },
     "execution_count": 3,
     "metadata": {},
     "output_type": "execute_result"
    }
   ],
   "source": [
    "df_customer.head(5)"
   ]
  },
  {
   "cell_type": "markdown",
   "id": "loose-gravity",
   "metadata": {},
   "source": [
    "# Convert DOB to date type\n",
    "we can do it when we load the data, just use a different way"
   ]
  },
  {
   "cell_type": "code",
   "execution_count": 4,
   "id": "british-reporter",
   "metadata": {},
   "outputs": [
    {
     "name": "stdout",
     "output_type": "stream",
     "text": [
      "<class 'pandas.core.frame.DataFrame'>\n",
      "RangeIndex: 1000 entries, 0 to 999\n",
      "Data columns (total 5 columns):\n",
      " #   Column       Non-Null Count  Dtype         \n",
      "---  ------       --------------  -----         \n",
      " 0   customer_id  1000 non-null   object        \n",
      " 1   first_name   1000 non-null   object        \n",
      " 2   last_name    1000 non-null   object        \n",
      " 3   gender       1000 non-null   object        \n",
      " 4   dob          1000 non-null   datetime64[ns]\n",
      "dtypes: datetime64[ns](1), object(4)\n",
      "memory usage: 39.2+ KB\n"
     ]
    }
   ],
   "source": [
    "df_customer['dob'] = df_customer['dob'].apply(lambda x: datetime.strptime(x, \"%Y-%m-%d %H:%M:%S\"))\n",
    "df_customer.info()"
   ]
  },
  {
   "cell_type": "markdown",
   "id": "electric-recipient",
   "metadata": {},
   "source": [
    "# Connect to MongoDB\n",
    "- The MongoDB replicaSet is running in a docker container(d2) in my laptop without authentication.\n",
    "- Due to the jupyter notebook is hosted in d1, I can use d-rh7-2 to connect instead of 127.0.0.1.\n",
    "- ocean_studio_III is just a name."
   ]
  },
  {
   "cell_type": "code",
   "execution_count": 5,
   "id": "organizational-graph",
   "metadata": {},
   "outputs": [],
   "source": [
    "mongo_db= MongoClient(\n",
    "    'mongodb://d-rh7-2:27017/?authSource=admin&replicaSet=rs_falcon',\n",
    "    ssl=False,\n",
    "    maxPoolSize = 5,\n",
    "    wtimeout = 2500)['ocean_studio_III']\n",
    "\n",
    "mongo_db.list_collection_names()\n",
    "customer_collection = mongo_db['customer']"
   ]
  },
  {
   "cell_type": "markdown",
   "id": "complimentary-xerox",
   "metadata": {},
   "source": [
    "# Dump to MongoDB\n",
    "- convert dataframe to json array\n",
    "- insert them to MongoDB"
   ]
  },
  {
   "cell_type": "code",
   "execution_count": 6,
   "id": "typical-weight",
   "metadata": {},
   "outputs": [
    {
     "name": "stdout",
     "output_type": "stream",
     "text": [
      "1000\n"
     ]
    }
   ],
   "source": [
    "customer_collection.delete_many({})\n",
    "temp_json_result=df_customer.to_json(orient='records')\n",
    "parsed_json = json.loads(temp_json_result)\n",
    "mongodb_result = customer_collection.insert_many(parsed_json)\n",
    "print(len(mongodb_result.inserted_ids))"
   ]
  },
  {
   "cell_type": "markdown",
   "id": "dressed-richmond",
   "metadata": {},
   "source": [
    "# Create Index\n",
    "- Codify index creation process without undestanding what the impact is. \n",
    "- MongoDb development team should not rely on a *traditional* DBA to create index.\n",
    "- These Index creation might be part of application bootstrap with additional intelligence, such as\n",
    "    - Check if index was already created\n",
    "    - Checke if collection has data in there. Consider to either abort or create index in background."
   ]
  },
  {
   "cell_type": "code",
   "execution_count": 7,
   "id": "mineral-movement",
   "metadata": {},
   "outputs": [
    {
     "name": "stdout",
     "output_type": "stream",
     "text": [
      "Already created\n",
      "{'_id_': {'key': [('_id', 1)], 'ns': 'ocean_studio_III.customer', 'v': 2},\n",
      " 'customer_id_uk': {'key': [('customer_id', 1)],\n",
      "                    'ns': 'ocean_studio_III.customer',\n",
      "                    'unique': True,\n",
      "                    'v': 2}}\n"
     ]
    }
   ],
   "source": [
    "if 'customer_id_uk' not in list(customer_collection.index_information()):\n",
    "    mongodb_result=customer_collection.create_index(\"customer_id\", name='customer_id_uk', unique=True)\n",
    "else:\n",
    "    print('Already created')\n",
    "    pprint.pprint(customer_collection.index_information())"
   ]
  },
  {
   "cell_type": "code",
   "execution_count": 8,
   "id": "sublime-department",
   "metadata": {},
   "outputs": [
    {
     "data": {
      "text/html": [
       "<div>\n",
       "<style scoped>\n",
       "    .dataframe tbody tr th:only-of-type {\n",
       "        vertical-align: middle;\n",
       "    }\n",
       "\n",
       "    .dataframe tbody tr th {\n",
       "        vertical-align: top;\n",
       "    }\n",
       "\n",
       "    .dataframe thead th {\n",
       "        text-align: right;\n",
       "    }\n",
       "</style>\n",
       "<table border=\"1\" class=\"dataframe\">\n",
       "  <thead>\n",
       "    <tr style=\"text-align: right;\">\n",
       "      <th></th>\n",
       "      <th>customer_id</th>\n",
       "      <th>first_name</th>\n",
       "      <th>last_name</th>\n",
       "      <th>gender</th>\n",
       "      <th>dob</th>\n",
       "    </tr>\n",
       "  </thead>\n",
       "  <tbody>\n",
       "    <tr>\n",
       "      <th>0</th>\n",
       "      <td>C000001</td>\n",
       "      <td>Marty</td>\n",
       "      <td>McFly</td>\n",
       "      <td>M</td>\n",
       "      <td>1970-01-01</td>\n",
       "    </tr>\n",
       "    <tr>\n",
       "      <th>1</th>\n",
       "      <td>C000002</td>\n",
       "      <td>Aurora</td>\n",
       "      <td>Lane</td>\n",
       "      <td>F</td>\n",
       "      <td>1970-01-02</td>\n",
       "    </tr>\n",
       "    <tr>\n",
       "      <th>2</th>\n",
       "      <td>C000003</td>\n",
       "      <td>Rita</td>\n",
       "      <td>Vrataski</td>\n",
       "      <td>F</td>\n",
       "      <td>1970-01-03</td>\n",
       "    </tr>\n",
       "    <tr>\n",
       "      <th>3</th>\n",
       "      <td>C000004</td>\n",
       "      <td>William</td>\n",
       "      <td>Cage</td>\n",
       "      <td>M</td>\n",
       "      <td>1970-01-04</td>\n",
       "    </tr>\n",
       "    <tr>\n",
       "      <th>4</th>\n",
       "      <td>C000005</td>\n",
       "      <td>Stanley</td>\n",
       "      <td>Ipkiss</td>\n",
       "      <td>M</td>\n",
       "      <td>1970-01-05</td>\n",
       "    </tr>\n",
       "    <tr>\n",
       "      <th>...</th>\n",
       "      <td>...</td>\n",
       "      <td>...</td>\n",
       "      <td>...</td>\n",
       "      <td>...</td>\n",
       "      <td>...</td>\n",
       "    </tr>\n",
       "    <tr>\n",
       "      <th>995</th>\n",
       "      <td>C000996</td>\n",
       "      <td>First 000996</td>\n",
       "      <td>Last 000996</td>\n",
       "      <td>F</td>\n",
       "      <td>1972-09-23</td>\n",
       "    </tr>\n",
       "    <tr>\n",
       "      <th>996</th>\n",
       "      <td>C000997</td>\n",
       "      <td>First 000997</td>\n",
       "      <td>Last 000997</td>\n",
       "      <td>M</td>\n",
       "      <td>1972-09-24</td>\n",
       "    </tr>\n",
       "    <tr>\n",
       "      <th>997</th>\n",
       "      <td>C000998</td>\n",
       "      <td>First 000998</td>\n",
       "      <td>Last 000998</td>\n",
       "      <td>F</td>\n",
       "      <td>1972-09-25</td>\n",
       "    </tr>\n",
       "    <tr>\n",
       "      <th>998</th>\n",
       "      <td>C000999</td>\n",
       "      <td>First 000999</td>\n",
       "      <td>Last 000999</td>\n",
       "      <td>M</td>\n",
       "      <td>1972-09-26</td>\n",
       "    </tr>\n",
       "    <tr>\n",
       "      <th>999</th>\n",
       "      <td>C001000</td>\n",
       "      <td>First 001000</td>\n",
       "      <td>Last 001000</td>\n",
       "      <td>F</td>\n",
       "      <td>1972-09-27</td>\n",
       "    </tr>\n",
       "  </tbody>\n",
       "</table>\n",
       "<p>1000 rows × 5 columns</p>\n",
       "</div>"
      ],
      "text/plain": [
       "    customer_id    first_name    last_name gender        dob\n",
       "0       C000001         Marty        McFly      M 1970-01-01\n",
       "1       C000002        Aurora         Lane      F 1970-01-02\n",
       "2       C000003          Rita     Vrataski      F 1970-01-03\n",
       "3       C000004       William         Cage      M 1970-01-04\n",
       "4       C000005       Stanley       Ipkiss      M 1970-01-05\n",
       "..          ...           ...          ...    ...        ...\n",
       "995     C000996  First 000996  Last 000996      F 1972-09-23\n",
       "996     C000997  First 000997  Last 000997      M 1972-09-24\n",
       "997     C000998  First 000998  Last 000998      F 1972-09-25\n",
       "998     C000999  First 000999  Last 000999      M 1972-09-26\n",
       "999     C001000  First 001000  Last 001000      F 1972-09-27\n",
       "\n",
       "[1000 rows x 5 columns]"
      ]
     },
     "execution_count": 8,
     "metadata": {},
     "output_type": "execute_result"
    }
   ],
   "source": [
    "pd.set_option('display.max_columns', 100) # show 100 columns\n",
    "pd.set_option('display.max_rows', 100)\n",
    "df_customer"
   ]
  },
  {
   "cell_type": "markdown",
   "id": "irish-criterion",
   "metadata": {},
   "source": [
    "# Search\n",
    "- Search in dataframe\n",
    "- Search in MongoDB"
   ]
  },
  {
   "cell_type": "code",
   "execution_count": 9,
   "id": "skilled-scanner",
   "metadata": {},
   "outputs": [
    {
     "data": {
      "text/html": [
       "<div>\n",
       "<style scoped>\n",
       "    .dataframe tbody tr th:only-of-type {\n",
       "        vertical-align: middle;\n",
       "    }\n",
       "\n",
       "    .dataframe tbody tr th {\n",
       "        vertical-align: top;\n",
       "    }\n",
       "\n",
       "    .dataframe thead th {\n",
       "        text-align: right;\n",
       "    }\n",
       "</style>\n",
       "<table border=\"1\" class=\"dataframe\">\n",
       "  <thead>\n",
       "    <tr style=\"text-align: right;\">\n",
       "      <th></th>\n",
       "      <th>customer_id</th>\n",
       "      <th>first_name</th>\n",
       "      <th>last_name</th>\n",
       "      <th>gender</th>\n",
       "      <th>dob</th>\n",
       "    </tr>\n",
       "  </thead>\n",
       "  <tbody>\n",
       "    <tr>\n",
       "      <th>3</th>\n",
       "      <td>C000004</td>\n",
       "      <td>William</td>\n",
       "      <td>Cage</td>\n",
       "      <td>M</td>\n",
       "      <td>1970-01-04</td>\n",
       "    </tr>\n",
       "  </tbody>\n",
       "</table>\n",
       "</div>"
      ],
      "text/plain": [
       "  customer_id first_name last_name gender        dob\n",
       "3     C000004    William      Cage      M 1970-01-04"
      ]
     },
     "execution_count": 9,
     "metadata": {},
     "output_type": "execute_result"
    }
   ],
   "source": [
    "filt = (df_customer['first_name'] == 'William') & (df_customer['last_name'] == 'Cage')\n",
    "df_customer[filt]"
   ]
  },
  {
   "cell_type": "code",
   "execution_count": 10,
   "id": "involved-princess",
   "metadata": {},
   "outputs": [
    {
     "name": "stdout",
     "output_type": "stream",
     "text": [
      "{'_id': ObjectId('607252399b956a0ef037e8e1'),\n",
      " 'customer_id': 'C000004',\n",
      " 'dob': 259200000,\n",
      " 'first_name': 'William',\n",
      " 'gender': 'M',\n",
      " 'last_name': 'Cage'}\n"
     ]
    }
   ],
   "source": [
    "for customer in customer_collection.find({\"first_name\": \"William\", \"last_name\": \"Cage\"}):\n",
    "    pprint.pprint(customer)"
   ]
  }
 ],
 "metadata": {
  "kernelspec": {
   "display_name": "Python 3",
   "language": "python",
   "name": "python3"
  },
  "language_info": {
   "codemirror_mode": {
    "name": "ipython",
    "version": 3
   },
   "file_extension": ".py",
   "mimetype": "text/x-python",
   "name": "python",
   "nbconvert_exporter": "python",
   "pygments_lexer": "ipython3",
   "version": "3.6.8"
  }
 },
 "nbformat": 4,
 "nbformat_minor": 5
}
